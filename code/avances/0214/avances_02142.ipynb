{
 "cells": [
  {
   "cell_type": "markdown",
   "metadata": {},
   "source": [
    "# Avances_0214\n",
    "\n",
    "Para mostrar como las soluciones hacen el nuevo entrecruzamiento."
   ]
  },
  {
   "cell_type": "code",
   "execution_count": 1,
   "metadata": {},
   "outputs": [],
   "source": [
    "from model import Sol, SolCollection, read_stations\n",
    "import model as m\n",
    "import numpy as np\n",
    "import pandas as pd\n",
    "import utilities as util\n",
    "import random\n",
    "random.seed(123347)"
   ]
  },
  {
   "cell_type": "code",
   "execution_count": 2,
   "metadata": {},
   "outputs": [],
   "source": [
    "# Read file and stations\n",
    "fp = '~/Dropbox/PI/PI2/data/n20q10A.dat'\n",
    "file_stations = util.read_file(fp)\n",
    "stations = read_stations(file_stations) # list of stations\n",
    "Sol.set_stations(stations)"
   ]
  },
  {
   "cell_type": "markdown",
   "metadata": {},
   "source": [
    "## Check Reproduction"
   ]
  },
  {
   "cell_type": "code",
   "execution_count": 3,
   "metadata": {},
   "outputs": [
    {
     "name": "stdout",
     "output_type": "stream",
     "text": [
      "route: [0, 1, 10, 8, 13, 11, 6, 14, 15, 5, 4, 17, 9, 18, 7, 16, 2, 19, 12, 3],            end route at_ 3 \n",
      "route: [13, 0, 4, 16, 11, 2, 14, 15, 5, 10, 17, 6, 18, 9, 1, 12, 19, 3, 7, 8],            end route at_ 8 \n"
     ]
    }
   ],
   "source": [
    "sol1 = Sol.random_sol()\n",
    "sol2 = Sol.random_sol()\n",
    "print(sol1)\n",
    "print(sol2)\n",
    "#f' Demands (in order) = {[stations[i].dem for i in sol2.route]}'"
   ]
  },
  {
   "cell_type": "code",
   "execution_count": 4,
   "metadata": {},
   "outputs": [
    {
     "name": "stdout",
     "output_type": "stream",
     "text": [
      "Help on method reproduce in module model:\n",
      "\n",
      "reproduce(other, option=1, interactive=False) method of model.Sol instance\n",
      "    Input:\n",
      "        self: Object type sol\n",
      "        other: Object type sol\n",
      "        option (int):\n",
      "            1 -> new_sol is the first son of self and other done\n",
      "            by method described in page 7 in \n",
      "            simple and efective evolutionary algorithm for the vehicle \n",
      "            routing problem by Christian Prins (2004).\n",
      "            2 -> Solution is getting the subroute i, j of the second route son\n",
      "                 and trying to accomodate it in the first route so it\n",
      "                 is TSP cost optimal\n",
      "    Output:\n",
      "        new_sol: Object type sol\n",
      "\n"
     ]
    }
   ],
   "source": [
    "help(sol1.reproduce)"
   ]
  },
  {
   "cell_type": "code",
   "execution_count": 5,
   "metadata": {},
   "outputs": [
    {
     "name": "stdout",
     "output_type": "stream",
     "text": [
      "Cut points are (3, 17)\n",
      "End route has chosen to be 20\n",
      "---------Solution object---------\n",
      "                route: [ 1 12 19  8 13 11  6 14 15  5  4 17  9 18  7 16  2  3  0 10]\n",
      "                Ends at node #: 20\n",
      "                The constructive sol is: [  3   3  -4   0   6  -4  -3  -1   7  -6  -1   0   0   7   3   0   0   0\n",
      "   0 -10]\n",
      "                Tsp cost: 6166.597591410663\n",
      "                Unbalance costs: 32\n"
     ]
    },
    {
     "data": {
      "text/plain": [
       "route: [ 1 12 19  8 13 11  6 14 15  5  4 17  9 18  7 16  2  3  0 10]"
      ]
     },
     "execution_count": 5,
     "metadata": {},
     "output_type": "execute_result"
    }
   ],
   "source": [
    "sol1.reproduce(sol2, interactive=True, option=1)"
   ]
  },
  {
   "cell_type": "code",
   "execution_count": 6,
   "metadata": {},
   "outputs": [
    {
     "name": "stdout",
     "output_type": "stream",
     "text": [
      " Ahorro en -1 -> 0: -464.2628565801921 \n",
      " Ahorro en 0 -> 1: -164.9234892391552 \n",
      " Ahorro en 1 -> 2: -781.8054556082197 \n",
      " Ahorro en 2 -> 3: -553.9425256262311 \n",
      " Ahorro en 3 -> 4: 39.662088327571865 \n",
      " Ahorro en 4 -> 5: -850.1361243398472 \n",
      " Ahorro en 5 -> 6: -1438.2527260537986 \n",
      " Ahorro en 6 -> 7: -1344.0545134389754 \n",
      " Ahorro en 7 -> 8: -828.9724310533798 \n",
      " Ahorro en 8 -> 9: -796.4926255615367 \n",
      " Ahorro en 9 -> 10: -191.0607053609518 \n",
      " Ahorro en 10 -> 11: -1012.9075333450413 \n",
      " Ahorro en 11 -> 12: -1506.675636286231 \n",
      " Ahorro en 12 -> 13: -1107.586315283008 \n",
      " Ahorro en 13 -> 14: -475.1062562468172 \n",
      " Ahorro en 14 -> 15: -884.0417010944914 \n",
      " Ahorro en 15 -> 16: -345.72243201736273 \n",
      "Cut points are (14, 18)\n",
      "End route has chosen to be 20\n",
      "---------Solution object---------\n",
      "                route: [0, 10, 8, 13, 1, 12, 19, 3, 11, 6, 14, 15, 5, 4, 17, 9, 18, 7, 16, 2]\n",
      "                Ends at node #: 20\n",
      "                The constructive sol is: [  7  -7   0   6   3   1  -4   0  -4  -2   0   7  -6  -1   0   0   7   3\n",
      "   0 -10]\n",
      "                Tsp cost: 6430.998765059876\n",
      "                Unbalance costs: 40\n"
     ]
    },
    {
     "data": {
      "text/plain": [
       "route: [0, 10, 8, 13, 1, 12, 19, 3, 11, 6, 14, 15, 5, 4, 17, 9, 18, 7, 16, 2]"
      ]
     },
     "execution_count": 6,
     "metadata": {},
     "output_type": "execute_result"
    }
   ],
   "source": [
    "random.seed(123456789)\n",
    "sol1.reproduce(sol2, interactive=True, option=2)"
   ]
  },
  {
   "cell_type": "code",
   "execution_count": 9,
   "metadata": {},
   "outputs": [],
   "source": [
    "route1 = sol1.route\n",
    "route2 = sol2.route"
   ]
  },
  {
   "cell_type": "code",
   "execution_count": 10,
   "metadata": {},
   "outputs": [
    {
     "data": {
      "text/plain": [
       "[1, 12, 19, 3]"
      ]
     },
     "execution_count": 10,
     "metadata": {},
     "output_type": "execute_result"
    }
   ],
   "source": [
    "subi_j = route2[14:18]\n",
    "subi_j"
   ]
  },
  {
   "cell_type": "code",
   "execution_count": 11,
   "metadata": {},
   "outputs": [
    {
     "name": "stdout",
     "output_type": "stream",
     "text": [
      "[0, 1, 10, 8, 13, 11, 6, 14, 15, 5, 4, 17, 9, 18, 7, 16, 2, 19, 12, 3]\n",
      "[13, 0, 4, 16, 11, 2, 14, 15, 5, 10, 17, 6, 18, 9, 1, 12, 19, 3, 7, 8]\n"
     ]
    }
   ],
   "source": [
    "route1 = sol1.route\n",
    "route2 = sol2.route\n",
    "print(route1)\n",
    "print(route2)"
   ]
  },
  {
   "cell_type": "code",
   "execution_count": 12,
   "metadata": {},
   "outputs": [
    {
     "data": {
      "text/plain": [
       "[0, 10, 8, 13, 11, 6, 14, 15, 5, 4, 17, 9, 18, 7, 16, 2]"
      ]
     },
     "execution_count": 12,
     "metadata": {},
     "output_type": "execute_result"
    }
   ],
   "source": [
    "other = [x for x in route1 if x not in subi_j]\n",
    "other"
   ]
  }
 ],
 "metadata": {
  "kernelspec": {
   "display_name": "Python 3",
   "language": "python",
   "name": "python3"
  },
  "language_info": {
   "codemirror_mode": {
    "name": "ipython",
    "version": 3
   },
   "file_extension": ".py",
   "mimetype": "text/x-python",
   "name": "python",
   "nbconvert_exporter": "python",
   "pygments_lexer": "ipython3",
   "version": "3.7.4"
  }
 },
 "nbformat": 4,
 "nbformat_minor": 4
}
