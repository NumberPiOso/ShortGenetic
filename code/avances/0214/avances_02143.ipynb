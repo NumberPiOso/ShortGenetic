{
 "cells": [
  {
   "cell_type": "markdown",
   "metadata": {},
   "source": [
    "# Cosas Importantes\n",
    "- Comparacion en metodos de reproduccion"
   ]
  },
  {
   "cell_type": "code",
   "execution_count": 1,
   "metadata": {},
   "outputs": [],
   "source": [
    "from model import Sol, SolCollection, read_stations\n",
    "import model as m\n",
    "import numpy as np\n",
    "import pandas as pd\n",
    "import utilities as util\n",
    "from utilities import get_lims_pts, normalize_list_in_place, plot_list_points, blockPrint, enablePrint\n",
    "import random\n",
    "from copy import deepcopy\n",
    "random.seed(12334789)\n",
    "%matplotlib inline\n",
    "from ipywidgets import interactive, fixed\n",
    "import matplotlib.pyplot as plt\n"
   ]
  },
  {
   "cell_type": "markdown",
   "metadata": {},
   "source": [
    "## 20 estaciones"
   ]
  },
  {
   "cell_type": "code",
   "execution_count": 2,
   "metadata": {},
   "outputs": [],
   "source": [
    "# Read file and stations\n",
    "fp = '~/Dropbox/PI/PI2/data/n20q10A.dat'\n",
    "file_stations = util.read_file(fp)\n",
    "stations = read_stations(file_stations) # list of stations\n",
    "Sol.set_stations(stations)"
   ]
  },
  {
   "cell_type": "code",
   "execution_count": 3,
   "metadata": {},
   "outputs": [
    {
     "data": {
      "application/vnd.jupyter.widget-view+json": {
       "model_id": "1609c159928a4144b708a5bd9b03f6f5",
       "version_major": 2,
       "version_minor": 0
      },
      "text/plain": [
       "interactive(children=(IntSlider(value=1, description='n', max=10), Output(layout=Layout(height='600px'))), _do…"
      ]
     },
     "metadata": {},
     "output_type": "display_data"
    }
   ],
   "source": [
    "random.seed(12334789)\n",
    "soluciones_show = SolCollection(n_pob=25, ratio_sons=.75, ratio_mutation=.2, num_random_sols=4)\n",
    "list_points, times_list, iters_list = soluciones_show.train_time(4, interactive=True, print_ = False, n_chks=10, reproduction_type=1)\n",
    "normalize_list_in_place(list_points)\n",
    "interactive_plot = interactive(plot_list_points, k=(0,100),\n",
    "                               n=(0, len(list_points)-1), list_points=fixed(list_points),\n",
    "                               iters_list=fixed(iters_list), times_list=fixed(times_list))\n",
    "output = interactive_plot.children[-1]\n",
    "output.layout.height = '600px'\n",
    "interactive_plot"
   ]
  },
  {
   "cell_type": "code",
   "execution_count": 4,
   "metadata": {},
   "outputs": [
    {
     "data": {
      "text/html": [
       "<div>\n",
       "<style scoped>\n",
       "    .dataframe tbody tr th:only-of-type {\n",
       "        vertical-align: middle;\n",
       "    }\n",
       "\n",
       "    .dataframe tbody tr th {\n",
       "        vertical-align: top;\n",
       "    }\n",
       "\n",
       "    .dataframe thead th {\n",
       "        text-align: right;\n",
       "    }\n",
       "</style>\n",
       "<table border=\"1\" class=\"dataframe\">\n",
       "  <thead>\n",
       "    <tr style=\"text-align: right;\">\n",
       "      <th></th>\n",
       "      <th>time(s)</th>\n",
       "      <th>%</th>\n",
       "    </tr>\n",
       "  </thead>\n",
       "  <tbody>\n",
       "    <tr>\n",
       "      <td>medal_table</td>\n",
       "      <td>1.646221</td>\n",
       "      <td>0.394136</td>\n",
       "    </tr>\n",
       "    <tr>\n",
       "      <td>biased_parents</td>\n",
       "      <td>0.105978</td>\n",
       "      <td>0.025373</td>\n",
       "    </tr>\n",
       "    <tr>\n",
       "      <td>parent_selection</td>\n",
       "      <td>0.128327</td>\n",
       "      <td>0.030724</td>\n",
       "    </tr>\n",
       "    <tr>\n",
       "      <td>reproduce</td>\n",
       "      <td>2.195043</td>\n",
       "      <td>0.525534</td>\n",
       "    </tr>\n",
       "    <tr>\n",
       "      <td>one_gen_mutation</td>\n",
       "      <td>0.101219</td>\n",
       "      <td>0.024234</td>\n",
       "    </tr>\n",
       "  </tbody>\n",
       "</table>\n",
       "</div>"
      ],
      "text/plain": [
       "                   time(s)         %\n",
       "medal_table       1.646221  0.394136\n",
       "biased_parents    0.105978  0.025373\n",
       "parent_selection  0.128327  0.030724\n",
       "reproduce         2.195043  0.525534\n",
       "one_gen_mutation  0.101219  0.024234"
      ]
     },
     "execution_count": 4,
     "metadata": {},
     "output_type": "execute_result"
    }
   ],
   "source": [
    "df_times = soluciones_show.get_times()\n",
    "df_times"
   ]
  },
  {
   "cell_type": "code",
   "execution_count": 5,
   "metadata": {},
   "outputs": [
    {
     "data": {
      "application/vnd.jupyter.widget-view+json": {
       "model_id": "0700db30c9714163b36f6e921e7e004e",
       "version_major": 2,
       "version_minor": 0
      },
      "text/plain": [
       "interactive(children=(IntSlider(value=1, description='n', max=10), Output(layout=Layout(height='600px'))), _do…"
      ]
     },
     "metadata": {},
     "output_type": "display_data"
    }
   ],
   "source": [
    "random.seed(12334789)\n",
    "soluciones_show = SolCollection(n_pob=25, ratio_sons=.75, ratio_mutation=.2, num_random_sols=4)\n",
    "\n",
    "list_points, times_list, iters_list = soluciones_show.train_time(4, interactive=True, n_chks=10, reproduction_type=2)\n",
    "normalize_list_in_place(list_points)\n",
    "interactive_plot = interactive(plot_list_points, \n",
    "                               n=(0, len(list_points)-1), list_points=fixed(list_points),\n",
    "                               iters_list=fixed(iters_list), times_list=fixed(times_list))\n",
    "output = interactive_plot.children[-1]\n",
    "output.layout.height = '600px'\n",
    "interactive_plot"
   ]
  },
  {
   "cell_type": "code",
   "execution_count": 6,
   "metadata": {},
   "outputs": [
    {
     "data": {
      "text/html": [
       "<div>\n",
       "<style scoped>\n",
       "    .dataframe tbody tr th:only-of-type {\n",
       "        vertical-align: middle;\n",
       "    }\n",
       "\n",
       "    .dataframe tbody tr th {\n",
       "        vertical-align: top;\n",
       "    }\n",
       "\n",
       "    .dataframe thead th {\n",
       "        text-align: right;\n",
       "    }\n",
       "</style>\n",
       "<table border=\"1\" class=\"dataframe\">\n",
       "  <thead>\n",
       "    <tr style=\"text-align: right;\">\n",
       "      <th></th>\n",
       "      <th>time(s)</th>\n",
       "      <th>%</th>\n",
       "    </tr>\n",
       "  </thead>\n",
       "  <tbody>\n",
       "    <tr>\n",
       "      <td>medal_table</td>\n",
       "      <td>1.658716</td>\n",
       "      <td>0.404819</td>\n",
       "    </tr>\n",
       "    <tr>\n",
       "      <td>biased_parents</td>\n",
       "      <td>0.107272</td>\n",
       "      <td>0.026180</td>\n",
       "    </tr>\n",
       "    <tr>\n",
       "      <td>parent_selection</td>\n",
       "      <td>0.130362</td>\n",
       "      <td>0.031816</td>\n",
       "    </tr>\n",
       "    <tr>\n",
       "      <td>reproduce</td>\n",
       "      <td>2.095131</td>\n",
       "      <td>0.511328</td>\n",
       "    </tr>\n",
       "    <tr>\n",
       "      <td>one_gen_mutation</td>\n",
       "      <td>0.105949</td>\n",
       "      <td>0.025857</td>\n",
       "    </tr>\n",
       "  </tbody>\n",
       "</table>\n",
       "</div>"
      ],
      "text/plain": [
       "                   time(s)         %\n",
       "medal_table       1.658716  0.404819\n",
       "biased_parents    0.107272  0.026180\n",
       "parent_selection  0.130362  0.031816\n",
       "reproduce         2.095131  0.511328\n",
       "one_gen_mutation  0.105949  0.025857"
      ]
     },
     "execution_count": 6,
     "metadata": {},
     "output_type": "execute_result"
    }
   ],
   "source": [
    "df_times = soluciones_show.get_times()\n",
    "df_times"
   ]
  },
  {
   "cell_type": "markdown",
   "metadata": {},
   "source": [
    "# 50 estaciones"
   ]
  },
  {
   "cell_type": "code",
   "execution_count": 7,
   "metadata": {},
   "outputs": [],
   "source": [
    "# Read file and stations\n",
    "fp = '~/Dropbox/PI/PI2/data/n50q10A.dat'\n",
    "file_stations = util.read_file(fp)\n",
    "stations = read_stations(file_stations) # list of stations\n",
    "Sol.set_stations(stations)"
   ]
  },
  {
   "cell_type": "code",
   "execution_count": 8,
   "metadata": {},
   "outputs": [
    {
     "data": {
      "application/vnd.jupyter.widget-view+json": {
       "model_id": "39d2d4c24c5d4cf8a613f0c52ead4241",
       "version_major": 2,
       "version_minor": 0
      },
      "text/plain": [
       "interactive(children=(IntSlider(value=1, description='n', max=10), Output(layout=Layout(height='600px'))), _do…"
      ]
     },
     "metadata": {},
     "output_type": "display_data"
    }
   ],
   "source": [
    "random.seed(4512356456)\n",
    "soluciones_show = SolCollection(n_pob=25, ratio_sons=.75, ratio_mutation=.2, num_random_sols=4)\n",
    "list_points, times_list, iters_list = soluciones_show.train_time(4, interactive=True, n_chks=10, reproduction_type=1)\n",
    "normalize_list_in_place(list_points)\n",
    "interactive_plot = interactive(plot_list_points, \n",
    "                               n=(0, len(list_points)-1), list_points=fixed(list_points),\n",
    "                               iters_list=fixed(iters_list), times_list=fixed(times_list))\n",
    "output = interactive_plot.children[-1]\n",
    "output.layout.height = '600px'\n",
    "interactive_plot"
   ]
  },
  {
   "cell_type": "code",
   "execution_count": 9,
   "metadata": {},
   "outputs": [
    {
     "data": {
      "text/html": [
       "<div>\n",
       "<style scoped>\n",
       "    .dataframe tbody tr th:only-of-type {\n",
       "        vertical-align: middle;\n",
       "    }\n",
       "\n",
       "    .dataframe tbody tr th {\n",
       "        vertical-align: top;\n",
       "    }\n",
       "\n",
       "    .dataframe thead th {\n",
       "        text-align: right;\n",
       "    }\n",
       "</style>\n",
       "<table border=\"1\" class=\"dataframe\">\n",
       "  <thead>\n",
       "    <tr style=\"text-align: right;\">\n",
       "      <th></th>\n",
       "      <th>time(s)</th>\n",
       "      <th>%</th>\n",
       "    </tr>\n",
       "  </thead>\n",
       "  <tbody>\n",
       "    <tr>\n",
       "      <td>medal_table</td>\n",
       "      <td>1.033896</td>\n",
       "      <td>0.253456</td>\n",
       "    </tr>\n",
       "    <tr>\n",
       "      <td>biased_parents</td>\n",
       "      <td>0.065485</td>\n",
       "      <td>0.016053</td>\n",
       "    </tr>\n",
       "    <tr>\n",
       "      <td>parent_selection</td>\n",
       "      <td>0.079435</td>\n",
       "      <td>0.019473</td>\n",
       "    </tr>\n",
       "    <tr>\n",
       "      <td>reproduce</td>\n",
       "      <td>2.835323</td>\n",
       "      <td>0.695071</td>\n",
       "    </tr>\n",
       "    <tr>\n",
       "      <td>one_gen_mutation</td>\n",
       "      <td>0.065046</td>\n",
       "      <td>0.015946</td>\n",
       "    </tr>\n",
       "  </tbody>\n",
       "</table>\n",
       "</div>"
      ],
      "text/plain": [
       "                   time(s)         %\n",
       "medal_table       1.033896  0.253456\n",
       "biased_parents    0.065485  0.016053\n",
       "parent_selection  0.079435  0.019473\n",
       "reproduce         2.835323  0.695071\n",
       "one_gen_mutation  0.065046  0.015946"
      ]
     },
     "execution_count": 9,
     "metadata": {},
     "output_type": "execute_result"
    }
   ],
   "source": [
    "df_times = soluciones_show.get_times()\n",
    "df_times"
   ]
  },
  {
   "cell_type": "code",
   "execution_count": 10,
   "metadata": {},
   "outputs": [
    {
     "data": {
      "application/vnd.jupyter.widget-view+json": {
       "model_id": "79b5da72aec54dcb894630ecf3faf366",
       "version_major": 2,
       "version_minor": 0
      },
      "text/plain": [
       "interactive(children=(IntSlider(value=1, description='n', max=10), Output(layout=Layout(height='600px'))), _do…"
      ]
     },
     "metadata": {},
     "output_type": "display_data"
    }
   ],
   "source": [
    "random.seed(4512356456)\n",
    "soluciones_show = SolCollection(n_pob=25, ratio_sons=.75, ratio_mutation=.2, num_random_sols=4)\n",
    "list_points, times_list, iters_list = soluciones_show.train_time(4, interactive=True, n_chks=10, reproduction_type=2)\n",
    "normalize_list_in_place(list_points)\n",
    "interactive_plot = interactive(plot_list_points, \n",
    "                               n=(0, len(list_points)-1), list_points=fixed(list_points),\n",
    "                               iters_list=fixed(iters_list), times_list=fixed(times_list))\n",
    "output = interactive_plot.children[-1]\n",
    "output.layout.height = '600px'\n",
    "interactive_plot"
   ]
  },
  {
   "cell_type": "code",
   "execution_count": 11,
   "metadata": {},
   "outputs": [
    {
     "data": {
      "text/html": [
       "<div>\n",
       "<style scoped>\n",
       "    .dataframe tbody tr th:only-of-type {\n",
       "        vertical-align: middle;\n",
       "    }\n",
       "\n",
       "    .dataframe tbody tr th {\n",
       "        vertical-align: top;\n",
       "    }\n",
       "\n",
       "    .dataframe thead th {\n",
       "        text-align: right;\n",
       "    }\n",
       "</style>\n",
       "<table border=\"1\" class=\"dataframe\">\n",
       "  <thead>\n",
       "    <tr style=\"text-align: right;\">\n",
       "      <th></th>\n",
       "      <th>time(s)</th>\n",
       "      <th>%</th>\n",
       "    </tr>\n",
       "  </thead>\n",
       "  <tbody>\n",
       "    <tr>\n",
       "      <td>medal_table</td>\n",
       "      <td>1.002648</td>\n",
       "      <td>0.246494</td>\n",
       "    </tr>\n",
       "    <tr>\n",
       "      <td>biased_parents</td>\n",
       "      <td>0.065523</td>\n",
       "      <td>0.016108</td>\n",
       "    </tr>\n",
       "    <tr>\n",
       "      <td>parent_selection</td>\n",
       "      <td>0.079456</td>\n",
       "      <td>0.019534</td>\n",
       "    </tr>\n",
       "    <tr>\n",
       "      <td>reproduce</td>\n",
       "      <td>2.854075</td>\n",
       "      <td>0.701654</td>\n",
       "    </tr>\n",
       "    <tr>\n",
       "      <td>one_gen_mutation</td>\n",
       "      <td>0.065936</td>\n",
       "      <td>0.016210</td>\n",
       "    </tr>\n",
       "  </tbody>\n",
       "</table>\n",
       "</div>"
      ],
      "text/plain": [
       "                   time(s)         %\n",
       "medal_table       1.002648  0.246494\n",
       "biased_parents    0.065523  0.016108\n",
       "parent_selection  0.079456  0.019534\n",
       "reproduce         2.854075  0.701654\n",
       "one_gen_mutation  0.065936  0.016210"
      ]
     },
     "execution_count": 11,
     "metadata": {},
     "output_type": "execute_result"
    }
   ],
   "source": [
    "df_times = soluciones_show.get_times()\n",
    "df_times"
   ]
  },
  {
   "cell_type": "code",
   "execution_count": 16,
   "metadata": {},
   "outputs": [
    {
     "data": {
      "text/plain": [
       "[(18, 15852.0529729393),\n",
       " (130, 2538.0311080823462),\n",
       " (130, 2538.0311080823462),\n",
       " (130, 2538.0311080823462),\n",
       " (130, 2538.0311080823462),\n",
       " (130, 2538.0311080823462),\n",
       " (130, 2538.0311080823462),\n",
       " (130, 2538.0311080823462),\n",
       " (130, 2538.0311080823462),\n",
       " (130, 2538.0311080823462),\n",
       " (130, 2538.0311080823462),\n",
       " (130, 2538.0311080823462),\n",
       " (130, 2538.0311080823462),\n",
       " (130, 2538.0311080823462),\n",
       " (130, 2538.0311080823462),\n",
       " (130, 2538.0311080823462),\n",
       " (130, 2538.0311080823462),\n",
       " (130, 2538.0311080823462),\n",
       " (130, 2538.0311080823462),\n",
       " (130, 2538.0311080823462),\n",
       " (130, 2538.0311080823462),\n",
       " (84, 12585.898014124634),\n",
       " (110, 4753.971605309561),\n",
       " (112, 4652.726371546161),\n",
       " (130, 2538.0311080823462),\n",
       " (130, 2818.1665052066123),\n",
       " (130, 2538.0311080823462),\n",
       " (112, 10352.951585366744),\n",
       " (122, 3301.023874160195),\n",
       " (130, 2538.0311080823462),\n",
       " (130, 2538.0311080823462),\n",
       " (130, 2538.0311080823462),\n",
       " (130, 2538.0311080823462),\n",
       " (130, 2538.0311080823462),\n",
       " (108, 4878.941060163717),\n",
       " (120, 3285.930381226153),\n",
       " (120, 4356.798858437288),\n",
       " (104, 4903.67700283958),\n",
       " (108, 4878.941060163717),\n",
       " (112, 8062.117777899705),\n",
       " (130, 2538.0311080823462),\n",
       " (130, 2538.0311080823462),\n",
       " (130, 2538.0311080823462),\n",
       " (130, 3896.3233100527214)]"
      ]
     },
     "execution_count": 16,
     "metadata": {},
     "output_type": "execute_result"
    }
   ],
   "source": [
    "[(x.cost_unb, x.cost_tsp) for x in soluciones_show.sols]"
   ]
  },
  {
   "cell_type": "code",
   "execution_count": 18,
   "metadata": {},
   "outputs": [
    {
     "data": {
      "text/plain": [
       "array([ 5, 42, 32, 27, 10, 23,  6, 38, 35,  7, 14, 18, 25, 33, 45,  8, 29,\n",
       "       40, 22, 36, 41,  0, 37, 39,  2, 26, 20, 19,  1, 13, 30, 31, 28, 17,\n",
       "       43, 21, 49, 16, 46, 11, 47, 48, 15,  9, 12, 34, 24, 44,  3,  4])"
      ]
     },
     "execution_count": 18,
     "metadata": {},
     "output_type": "execute_result"
    }
   ],
   "source": [
    "soluciones_show.sols[0].route"
   ]
  },
  {
   "cell_type": "code",
   "execution_count": null,
   "metadata": {},
   "outputs": [],
   "source": []
  }
 ],
 "metadata": {
  "kernelspec": {
   "display_name": "Python 3",
   "language": "python",
   "name": "python3"
  },
  "language_info": {
   "codemirror_mode": {
    "name": "ipython",
    "version": 3
   },
   "file_extension": ".py",
   "mimetype": "text/x-python",
   "name": "python",
   "nbconvert_exporter": "python",
   "pygments_lexer": "ipython3",
   "version": "3.7.4"
  }
 },
 "nbformat": 4,
 "nbformat_minor": 4
}
