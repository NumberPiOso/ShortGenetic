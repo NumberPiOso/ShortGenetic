{
 "cells": [
  {
   "cell_type": "code",
   "execution_count": 1,
   "metadata": {},
   "outputs": [],
   "source": [
    "from model import Sol, SolCollection, read_stations\n",
    "import model as m\n",
    "import numpy as np\n",
    "import pandas as pd\n",
    "import utilities as util\n",
    "from utilities import get_lims_pts, normalize_list_in_place, plot_list_points, blockPrint, enablePrint\n",
    "import random\n",
    "from copy import deepcopy\n",
    "random.seed(12334789)\n",
    "%matplotlib inline\n",
    "import matplotlib.pyplot as plt"
   ]
  },
  {
   "cell_type": "markdown",
   "metadata": {},
   "source": [
    "## Avances\n",
    "- Túneo de parámetros\n",
    "- Modelos Exactos C++"
   ]
  },
  {
   "cell_type": "markdown",
   "metadata": {},
   "source": [
    "\n",
    "### 1. Tuneo de parametros\n",
    "1. Correr modelos con todas las diferentes parametrizaciones\n",
    "2. Sacar métricas de cada uno de los modelos\n",
    "3. Ponderar las métricas entre todas las instancias para cada modelo.\n",
    "4. Escoger las mejores parametrizaciones que lleve a las mejores métricas."
   ]
  },
  {
   "cell_type": "markdown",
   "metadata": {},
   "source": [
    "#### EJEMPLO DE QUE SE ESTA HACIENDO PARA COMPARAR LAS METRICAS"
   ]
  },
  {
   "cell_type": "code",
   "execution_count": 2,
   "metadata": {},
   "outputs": [],
   "source": [
    "# Read file and stations\n",
    "fp = '~/Dropbox/PI/PI2/data/n30q10A.dat'\n",
    "file_stations = util.rdead_file(fp)\n",
    "stations = read_statiCons(file_stations) # list of stations\n",
    "Sol.set_stations(stations)"
   ]
  },
  {
   "cell_type": "code",
   "execution_count": 3,
   "metadata": {},
   "outputs": [],
   "source": [
    "soluciones1 = SolCollection(n_pob=50, ratio_sons=.75, ratio_mutation=.2, num_random_sols=4)\n",
    "res1 = soluciones1.train_time(1)\n"
   ]
  },
  {
   "cell_type": "code",
   "execution_count": 4,
   "metadata": {},
   "outputs": [],
   "source": [
    "soluciones2 = SolCollection(n_pob=50, ratio_sons=.75, ratio_mutation=.2, num_random_sols=4)\n",
    "res2 = soluciones2.train_time(5)"
   ]
  },
  {
   "cell_type": "code",
   "execution_count": 5,
   "metadata": {},
   "outputs": [
    {
     "data": {
      "text/html": [
       "<div>\n",
       "<style scoped>\n",
       "    .dataframe tbody tr th:only-of-type {\n",
       "        vertical-align: middle;\n",
       "    }\n",
       "\n",
       "    .dataframe tbody tr th {\n",
       "        vertical-align: top;\n",
       "    }\n",
       "\n",
       "    .dataframe thead th {\n",
       "        text-align: right;\n",
       "    }\n",
       "</style>\n",
       "<table border=\"1\" class=\"dataframe\">\n",
       "  <thead>\n",
       "    <tr style=\"text-align: right;\">\n",
       "      <th></th>\n",
       "      <th>set_cov</th>\n",
       "      <th>gen_dist</th>\n",
       "      <th>spacing</th>\n",
       "      <th>eucl_sum</th>\n",
       "    </tr>\n",
       "  </thead>\n",
       "  <tbody>\n",
       "    <tr>\n",
       "      <th>0</th>\n",
       "      <td>0.310345</td>\n",
       "      <td>0.005610</td>\n",
       "      <td>0.027808</td>\n",
       "      <td>1.613442</td>\n",
       "    </tr>\n",
       "    <tr>\n",
       "      <th>1</th>\n",
       "      <td>0.629630</td>\n",
       "      <td>0.008048</td>\n",
       "      <td>0.025937</td>\n",
       "      <td>1.658225</td>\n",
       "    </tr>\n",
       "  </tbody>\n",
       "</table>\n",
       "</div>"
      ],
      "text/plain": [
       "    set_cov  gen_dist   spacing  eucl_sum\n",
       "0  0.310345  0.005610  0.027808  1.613442\n",
       "1  0.629630  0.008048  0.025937  1.658225"
      ]
     },
     "execution_count": 5,
     "metadata": {},
     "output_type": "execute_result"
    }
   ],
   "source": [
    "util.get_metrics([res1, res2])"
   ]
  },
  {
   "cell_type": "markdown",
   "metadata": {},
   "source": [
    "## main_tunning.py\n",
    "\n",
    "Para cada instancia se corren 81 diferentes combinaciones de parámetros.  \n",
    "\n",
    "Las combinaciones de pamétros de definen en el archivo **main_tunning.py** y son las siguientes.\n",
    "\n",
    "<pre><code class=\"python\"># Combinaciones de parametros\n",
    "\n",
    "possible_values = {\n",
    "    'n_pob': [20, 40, 80],\n",
    "    'ratios_sons': [.5 ,.75, 1],\n",
    "    'ratio_mutation': [.05, .2, .6],\n",
    "    'num_random_sols': [4, 10, 15]\n",
    "}\n",
    "</code></pre>\n",
    "\n",
    "*INSTANCIAS* (56) : 20A, 20B, 20C ... 300H.    \n",
    "\n",
    "Por lo que en definitiva se corren *81x56* veces el genético. 10 segundos cada uno. Los resultados de cada combinación en cada instancia se guardan en **all\\_results.xlsx** y los consolidados (promedio) entre todas las instancias se guarda en el archivo **mean\\_instances.py** donde se normaliza y se ordena, para ver cual son las combinaciones de parametros que sacarón mejor valor en la ponderación.\n",
    "\n",
    "Todo lo anteriormente descrito se hace en **main\\_tunning.py**\n",
    "\n"
   ]
  },
  {
   "cell_type": "markdown",
   "metadata": {},
   "source": [
    "## 2. Optimización de modelos en C++"
   ]
  },
  {
   "cell_type": "code",
   "execution_count": null,
   "metadata": {},
   "outputs": [],
   "source": []
  }
 ],
 "metadata": {
  "kernelspec": {
   "display_name": "Python 3",
   "language": "python",
   "name": "python3"
  },
  "language_info": {
   "codemirror_mode": {
    "name": "ipython",
    "version": 3
   },
   "file_extension": ".py",
   "mimetype": "text/x-python",
   "name": "python",
   "nbconvert_exporter": "python",
   "pygments_lexer": "ipython3",
   "version": "3.7.4"
  }
 },
 "nbformat": 4,
 "nbformat_minor": 4
}
