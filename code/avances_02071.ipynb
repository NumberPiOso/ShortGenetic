{
 "cells": [
  {
   "cell_type": "markdown",
   "metadata": {},
   "source": [
    "# Avances_0207 \n",
    "Para mostrar como son las soluciones, que significan y como se entrecruzan entre sí. "
   ]
  },
  {
   "cell_type": "code",
   "execution_count": null,
   "metadata": {},
   "outputs": [],
   "source": [
    "from model import Sol, SolCollection, read_stations\n",
    "import model as m\n",
    "import numpy as np\n",
    "import pandas as pd\n",
    "import utilities as util\n",
    "import random\n",
    "random.seed(123347)"
   ]
  },
  {
   "cell_type": "code",
   "execution_count": 2,
   "metadata": {},
   "outputs": [
    {
     "data": {
      "text/html": [
       "<div>\n",
       "<style scoped>\n",
       "    .dataframe tbody tr th:only-of-type {\n",
       "        vertical-align: middle;\n",
       "    }\n",
       "\n",
       "    .dataframe tbody tr th {\n",
       "        vertical-align: top;\n",
       "    }\n",
       "\n",
       "    .dataframe thead th {\n",
       "        text-align: right;\n",
       "    }\n",
       "</style>\n",
       "<table border=\"1\" class=\"dataframe\">\n",
       "  <thead>\n",
       "    <tr style=\"text-align: right;\">\n",
       "      <th></th>\n",
       "      <th>x</th>\n",
       "      <th>y</th>\n",
       "      <th>dem</th>\n",
       "    </tr>\n",
       "    <tr>\n",
       "      <th>sta</th>\n",
       "      <th></th>\n",
       "      <th></th>\n",
       "      <th></th>\n",
       "    </tr>\n",
       "  </thead>\n",
       "  <tbody>\n",
       "    <tr>\n",
       "      <td>1</td>\n",
       "      <td>0</td>\n",
       "      <td>0</td>\n",
       "      <td>-7</td>\n",
       "    </tr>\n",
       "    <tr>\n",
       "      <td>2</td>\n",
       "      <td>220</td>\n",
       "      <td>-461</td>\n",
       "      <td>-3</td>\n",
       "    </tr>\n",
       "    <tr>\n",
       "      <td>3</td>\n",
       "      <td>-62</td>\n",
       "      <td>-261</td>\n",
       "      <td>-3</td>\n",
       "    </tr>\n",
       "    <tr>\n",
       "      <td>4</td>\n",
       "      <td>298</td>\n",
       "      <td>356</td>\n",
       "      <td>0</td>\n",
       "    </tr>\n",
       "    <tr>\n",
       "      <td>5</td>\n",
       "      <td>-214</td>\n",
       "      <td>-134</td>\n",
       "      <td>13</td>\n",
       "    </tr>\n",
       "  </tbody>\n",
       "</table>\n",
       "</div>"
      ],
      "text/plain": [
       "       x    y  dem\n",
       "sta               \n",
       "1      0    0   -7\n",
       "2    220 -461   -3\n",
       "3    -62 -261   -3\n",
       "4    298  356    0\n",
       "5   -214 -134   13"
      ]
     },
     "execution_count": 2,
     "metadata": {},
     "output_type": "execute_result"
    }
   ],
   "source": [
    "# Read file and stations\n",
    "fp = '~/Dropbox/PI/PI2/data/n5q10A.dat'\n",
    "file_stations = util.read_file(fp)\n",
    "stations = read_stations(file_stations) # list of stations\n",
    "Sol.set_stations(stations)\n",
    "file_stations"
   ]
  },
  {
   "cell_type": "markdown",
   "metadata": {},
   "source": [
    "## Show solution"
   ]
  },
  {
   "cell_type": "code",
   "execution_count": 3,
   "metadata": {},
   "outputs": [
    {
     "name": "stdout",
     "output_type": "stream",
     "text": [
      "---------Solution object---------\n",
      "                route: [1, 2, 4, 3, 0]\n",
      "                Ends at node #: 5\n",
      "                The constructive sol is: [ 3  3 -6  0  0]\n",
      "                Tsp cost: 543.7956508027402\n",
      "                Unbalance costs: 14\n"
     ]
    }
   ],
   "source": [
    "sol1 = Sol.random_sol() \n",
    "sol1.display()"
   ]
  },
  {
   "cell_type": "markdown",
   "metadata": {},
   "source": [
    "### Comparation of Sol1 with shorter ones"
   ]
  },
  {
   "cell_type": "code",
   "execution_count": 4,
   "metadata": {},
   "outputs": [
    {
     "name": "stdout",
     "output_type": "stream",
     "text": [
      "---------Solution object---------\n",
      "                route: [1, 2, 4, 3, 0]\n",
      "                Ends at node #: 3\n",
      "                The constructive sol is: [ 3  3 -6]\n",
      "                Tsp cost: 543.7956508027402\n",
      "                Unbalance costs: 14\n",
      "---------Solution object---------\n",
      "                route: [1, 2, 4, 3, 0]\n",
      "                Ends at node #: 2\n",
      "                The constructive sol is: [ 3 -3]\n",
      "                Tsp cost: 345.72243201736273\n",
      "                Unbalance costs: 26\n"
     ]
    }
   ],
   "source": [
    "# It has to be verified that the unbalance cost is summing everything, even non visited nodes\n",
    "sol11 = Sol([1, 2, 4, 3, 0], 3)\n",
    "sol11.display()\n",
    "assert(sol11.cost_unb >= sol1.cost_unb)\n",
    "\n",
    "\n",
    "sol12 = Sol([1, 2, 4, 3, 0], 2)\n",
    "sol12.display()\n",
    "assert(sol12.cost_unb >= sol11.cost_unb)\n",
    "assert(sol12.cost_tsp <= sol11.cost_tsp)"
   ]
  },
  {
   "cell_type": "markdown",
   "metadata": {},
   "source": [
    "### Check TSP cost"
   ]
  },
  {
   "cell_type": "code",
   "execution_count": 5,
   "metadata": {},
   "outputs": [
    {
     "name": "stdout",
     "output_type": "stream",
     "text": [
      "la cota del costo es : 1716.7502598395272\n",
      "El verdadero costo en este caso es 543.7956508027402\n"
     ]
    },
    {
     "data": {
      "text/plain": [
       "543.7956508027402"
      ]
     },
     "execution_count": 5,
     "metadata": {},
     "output_type": "execute_result"
    }
   ],
   "source": [
    "route = sol1.route\n",
    "cota_costo = 0 # Es cota porque si no recoge bicicletas en un inicio entonces no debe pasar por ahí\n",
    "for i, j in zip(route, route[1:]):\n",
    "    cota_costo += stations[i].distance(stations[j])\n",
    "print(f'la cota del costo es : {cota_costo}')\n",
    "\n",
    "costo = stations[1].distance(stations[2]) + stations[2].distance(stations[4])\n",
    "print(f'El verdadero costo en este caso es {costo}')\n",
    "np.sqrt((220+62)**2 + 200**2) + np.sqrt((214-62)**2 + (134-261)**2)"
   ]
  },
  {
   "cell_type": "markdown",
   "metadata": {},
   "source": [
    "### Check Unb cost"
   ]
  },
  {
   "cell_type": "code",
   "execution_count": 6,
   "metadata": {},
   "outputs": [
    {
     "data": {
      "text/plain": [
       "' Demands (in order) = [-3, -3, 13, 0, -7]'"
      ]
     },
     "execution_count": 6,
     "metadata": {},
     "output_type": "execute_result"
    }
   ],
   "source": [
    "f' Demands (in order) = {[stations[i].dem for i in sol1.route]}'"
   ]
  },
  {
   "cell_type": "markdown",
   "metadata": {},
   "source": [
    "## Check Reproduction"
   ]
  },
  {
   "cell_type": "code",
   "execution_count": 8,
   "metadata": {},
   "outputs": [
    {
     "name": "stdout",
     "output_type": "stream",
     "text": [
      "---------Solution object---------\n",
      "                route: [1, 2, 4, 3, 0]\n",
      "                Ends at node #: 5\n",
      "                The constructive sol is: [ 3  3 -6  0  0]\n",
      "                Tsp cost: 543.7956508027402\n",
      "                Unbalance costs: 14\n",
      "---------Solution object---------\n",
      "                route: [1, 4, 2, 3, 0]\n",
      "                Ends at node #: 3\n",
      "                The constructive sol is: [ 3 -3  0]\n",
      "                Tsp cost: 543.4013249891833\n",
      "                Unbalance costs: 20\n"
     ]
    }
   ],
   "source": [
    "sol2 = Sol.random_sol(3)\n",
    "sol1.display()\n",
    "sol2.display()\n",
    "#f' Demands (in order) = {[stations[i].dem for i in sol2.route]}'"
   ]
  },
  {
   "cell_type": "code",
   "execution_count": 12,
   "metadata": {},
   "outputs": [
    {
     "name": "stdout",
     "output_type": "stream",
     "text": [
      "route: [1, 2, 4, 3, 0],            end route at_ 0 \n",
      "route: [1, 4, 2, 3, 0],            end route at_ 2 \n"
     ]
    }
   ],
   "source": [
    "print(sol1)\n",
    "print(sol2)"
   ]
  },
  {
   "cell_type": "code",
   "execution_count": 11,
   "metadata": {},
   "outputs": [
    {
     "name": "stdout",
     "output_type": "stream",
     "text": [
      "Cut points are (2, 5)\n",
      "End route has chosen to be 5\n",
      "---------Solution object---------\n",
      "                route: [1 2 4 3 0]\n",
      "                Ends at node #: 5\n",
      "                The constructive sol is: [ 3  3 -6  0  0]\n",
      "                Tsp cost: 543.7956508027402\n",
      "                Unbalance costs: 14\n",
      "Cut points are (3, 5)\n",
      "End route has chosen to be 5\n",
      "---------Solution object---------\n",
      "                route: [1 2 4 3 0]\n",
      "                Ends at node #: 5\n",
      "                The constructive sol is: [ 3  3 -6  0  0]\n",
      "                Tsp cost: 543.7956508027402\n",
      "                Unbalance costs: 14\n"
     ]
    },
    {
     "data": {
      "text/plain": [
       "route: [1 2 4 3 0]"
      ]
     },
     "execution_count": 11,
     "metadata": {},
     "output_type": "execute_result"
    }
   ],
   "source": [
    "sol1.reproduce(sol2, interactive=True)\n",
    "sol2.reproduce(sol1, interactive=True)"
   ]
  },
  {
   "cell_type": "code",
   "execution_count": 13,
   "metadata": {},
   "outputs": [
    {
     "name": "stdout",
     "output_type": "stream",
     "text": [
      "Cut points are (2, 4)\n",
      "End route has chosen to be 3\n",
      "---------Solution object---------\n",
      "                route: [1 2 4 3 0]\n",
      "                Ends at node #: 3\n",
      "                The constructive sol is: [ 3  3 -6]\n",
      "                Tsp cost: 543.7956508027402\n",
      "                Unbalance costs: 14\n"
     ]
    },
    {
     "data": {
      "text/plain": [
       "route: [1 2 4 3 0]"
      ]
     },
     "execution_count": 13,
     "metadata": {},
     "output_type": "execute_result"
    }
   ],
   "source": [
    "sol1.reproduce(sol2, interactive=True)"
   ]
  }
 ],
 "metadata": {
  "kernelspec": {
   "display_name": "Python 3.7.4 64-bit",
   "language": "python",
   "name": "python37464bit51aa5f397e6c4f8bb71f4b1cad7305ec"
  },
  "language_info": {
   "codemirror_mode": {
    "name": "ipython",
    "version": 3
   },
   "file_extension": ".py",
   "mimetype": "text/x-python",
   "name": "python",
   "nbconvert_exporter": "python",
   "pygments_lexer": "ipython3",
   "version": "3.7.4"
  }
 },
 "nbformat": 4,
 "nbformat_minor": 4
}
