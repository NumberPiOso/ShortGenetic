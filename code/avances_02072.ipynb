{
 "cells": [
  {
   "cell_type": "code",
   "execution_count": 1,
   "metadata": {},
   "outputs": [],
   "source": [
    "from model import Sol, SolCollection, read_stations\n",
    "import model as m\n",
    "import numpy as np\n",
    "import pandas as pd\n",
    "import utilities as util\n",
    "import random\n",
    "random.seed(12334789)"
   ]
  },
  {
   "cell_type": "code",
   "execution_count": 2,
   "metadata": {},
   "outputs": [],
   "source": [
    "# Read file and stations\n",
    "fp = '~/Dropbox/PI/PI2/data/n5q10A.dat'\n",
    "file_stations = util.read_file(fp)\n",
    "stations = read_stations(file_stations) # list of stations\n",
    "Sol.set_stations(stations)"
   ]
  },
  {
   "cell_type": "code",
   "execution_count": 5,
   "metadata": {},
   "outputs": [],
   "source": [
    "soluciones = SolCollection(n_pob=10, ratio_sons=1, ratio_mutation=.2, num_random_sols=2)"
   ]
  },
  {
   "cell_type": "code",
   "execution_count": 6,
   "metadata": {},
   "outputs": [
    {
     "data": {
      "text/plain": [
       "[route: [3, 4, 0, 1, 2]\n",
       ", route: [0, 2, 1, 4, 3]\n",
       ", route: [3, 2, 4, 0, 1]\n",
       ", route: [2, 0, 1, 3, 4]\n",
       ", route: [2, 0, 4, 1, 3]\n",
       ", route: [2, 1, 4, 0, 3]\n",
       ", route: [1, 2, 0, 3, 4]\n",
       ", route: [0, 4, 1, 2, 3]\n",
       ", route: [1, 4, 3, 2, 0]\n",
       ", route: [2, 3, 0, 1, 4]\n",
       "]"
      ]
     },
     "execution_count": 6,
     "metadata": {},
     "output_type": "execute_result"
    }
   ],
   "source": [
    "soluciones"
   ]
  },
  {
   "cell_type": "code",
   "execution_count": null,
   "metadata": {},
   "outputs": [],
   "source": []
  }
 ],
 "metadata": {
  "kernelspec": {
   "display_name": "Python 3.7.4 64-bit",
   "language": "python",
   "name": "python37464bit51aa5f397e6c4f8bb71f4b1cad7305ec"
  },
  "language_info": {
   "codemirror_mode": {
    "name": "ipython",
    "version": 3
   },
   "file_extension": ".py",
   "mimetype": "text/x-python",
   "name": "python",
   "nbconvert_exporter": "python",
   "pygments_lexer": "ipython3",
   "version": "3.7.4"
  }
 },
 "nbformat": 4,
 "nbformat_minor": 4
}
