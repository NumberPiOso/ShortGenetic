{
 "cells": [
  {
   "cell_type": "code",
   "execution_count": 1,
   "metadata": {},
   "outputs": [],
   "source": [
    "from model import Sol, SolCollection, read_stations\n",
    "import model as m\n",
    "import numpy as np\n",
    "import pandas as pd\n",
    "import utilities as util\n",
    "import random\n",
    "from copy import deepcopy\n",
    "random.seed(12334789)"
   ]
  },
  {
   "cell_type": "code",
   "execution_count": 2,
   "metadata": {},
   "outputs": [],
   "source": [
    "# Read file and stations\n",
    "fp = '~/Dropbox/PI/PI2/data/n5q10A.dat'\n",
    "file_stations = util.read_file(fp)\n",
    "stations = read_stations(file_stations) # list of stations\n",
    "Sol.set_stations(stations)"
   ]
  },
  {
   "cell_type": "code",
   "execution_count": 3,
   "metadata": {},
   "outputs": [],
   "source": [
    "soluciones = SolCollection(n_pob=10, ratio_sons=1, ratio_mutation=.2, num_random_sols=2)"
   ]
  },
  {
   "cell_type": "code",
   "execution_count": 4,
   "metadata": {},
   "outputs": [
    {
     "data": {
      "text/plain": [
       "[route: [3, 4, 0, 1, 2]\n",
       ", route: [0, 2, 1, 4, 3]\n",
       ", route: [3, 2, 4, 0, 1]\n",
       ", route: [2, 0, 1, 3, 4]\n",
       ", route: [2, 0, 4, 1, 3]\n",
       ", route: [2, 1, 4, 0, 3]\n",
       ", route: [1, 2, 0, 3, 4]\n",
       ", route: [0, 4, 1, 2, 3]\n",
       ", route: [1, 4, 3, 2, 0]\n",
       ", route: [2, 3, 0, 1, 4]\n",
       "]"
      ]
     },
     "execution_count": 4,
     "metadata": {},
     "output_type": "execute_result"
    }
   ],
   "source": [
    "soluciones"
   ]
  },
  {
   "cell_type": "code",
   "execution_count": 5,
   "metadata": {},
   "outputs": [
    {
     "data": {
      "text/html": [
       "<div>\n",
       "<style scoped>\n",
       "    .dataframe tbody tr th:only-of-type {\n",
       "        vertical-align: middle;\n",
       "    }\n",
       "\n",
       "    .dataframe tbody tr th {\n",
       "        vertical-align: top;\n",
       "    }\n",
       "\n",
       "    .dataframe thead th {\n",
       "        text-align: right;\n",
       "    }\n",
       "</style>\n",
       "<table border=\"1\" class=\"dataframe\">\n",
       "  <thead>\n",
       "    <tr style=\"text-align: right;\">\n",
       "      <th></th>\n",
       "      <th>Unb</th>\n",
       "      <th>Tsp</th>\n",
       "      <th>Sol</th>\n",
       "      <th>Pod_lev</th>\n",
       "    </tr>\n",
       "    <tr>\n",
       "      <th>Solution</th>\n",
       "      <th></th>\n",
       "      <th></th>\n",
       "      <th></th>\n",
       "      <th></th>\n",
       "    </tr>\n",
       "  </thead>\n",
       "  <tbody>\n",
       "    <tr>\n",
       "      <td>1</td>\n",
       "      <td>6</td>\n",
       "      <td>466.336150</td>\n",
       "      <td>1</td>\n",
       "      <td>0</td>\n",
       "    </tr>\n",
       "    <tr>\n",
       "      <td>3</td>\n",
       "      <td>6</td>\n",
       "      <td>520.754515</td>\n",
       "      <td>3</td>\n",
       "      <td>1</td>\n",
       "    </tr>\n",
       "    <tr>\n",
       "      <td>9</td>\n",
       "      <td>6</td>\n",
       "      <td>520.754515</td>\n",
       "      <td>9</td>\n",
       "      <td>1</td>\n",
       "    </tr>\n",
       "    <tr>\n",
       "      <td>6</td>\n",
       "      <td>6</td>\n",
       "      <td>866.476947</td>\n",
       "      <td>6</td>\n",
       "      <td>2</td>\n",
       "    </tr>\n",
       "    <tr>\n",
       "      <td>0</td>\n",
       "      <td>26</td>\n",
       "      <td>856.526700</td>\n",
       "      <td>0</td>\n",
       "      <td>2</td>\n",
       "    </tr>\n",
       "    <tr>\n",
       "      <td>4</td>\n",
       "      <td>6</td>\n",
       "      <td>1884.870772</td>\n",
       "      <td>4</td>\n",
       "      <td>3</td>\n",
       "    </tr>\n",
       "    <tr>\n",
       "      <td>7</td>\n",
       "      <td>12</td>\n",
       "      <td>1855.960496</td>\n",
       "      <td>7</td>\n",
       "      <td>3</td>\n",
       "    </tr>\n",
       "    <tr>\n",
       "      <td>5</td>\n",
       "      <td>14</td>\n",
       "      <td>1605.878198</td>\n",
       "      <td>5</td>\n",
       "      <td>3</td>\n",
       "    </tr>\n",
       "    <tr>\n",
       "      <td>2</td>\n",
       "      <td>20</td>\n",
       "      <td>961.369071</td>\n",
       "      <td>2</td>\n",
       "      <td>3</td>\n",
       "    </tr>\n",
       "    <tr>\n",
       "      <td>8</td>\n",
       "      <td>20</td>\n",
       "      <td>1009.737474</td>\n",
       "      <td>8</td>\n",
       "      <td>3</td>\n",
       "    </tr>\n",
       "  </tbody>\n",
       "</table>\n",
       "</div>"
      ],
      "text/plain": [
       "          Unb          Tsp  Sol  Pod_lev\n",
       "Solution                                \n",
       "1           6   466.336150    1        0\n",
       "3           6   520.754515    3        1\n",
       "9           6   520.754515    9        1\n",
       "6           6   866.476947    6        2\n",
       "0          26   856.526700    0        2\n",
       "4           6  1884.870772    4        3\n",
       "7          12  1855.960496    7        3\n",
       "5          14  1605.878198    5        3\n",
       "2          20   961.369071    2        3\n",
       "8          20  1009.737474    8        3"
      ]
     },
     "execution_count": 5,
     "metadata": {},
     "output_type": "execute_result"
    }
   ],
   "source": [
    "soluciones.medal_table()"
   ]
  },
  {
   "cell_type": "markdown",
   "metadata": {},
   "source": [
    "#### Problema (puede ser más complejo que n^2)"
   ]
  },
  {
   "cell_type": "code",
   "execution_count": 6,
   "metadata": {},
   "outputs": [
    {
     "name": "stdout",
     "output_type": "stream",
     "text": [
      "---------Solution object---------\n",
      "                route: [2, 0, 1, 3, 4]\n",
      "                Ends at node #: 5\n",
      "                The constructive sol is: [  3   7   0   0 -10]\n",
      "                Tsp cost: 520.7545147409874\n",
      "                Unbalance costs: 6\n"
     ]
    }
   ],
   "source": [
    "soluciones.sols[1].display()"
   ]
  },
  {
   "cell_type": "code",
   "execution_count": 7,
   "metadata": {},
   "outputs": [
    {
     "data": {
      "text/plain": [
       "array([[  6.        , 466.33614951],\n",
       "       [ 26.        ,   0.        ]])"
      ]
     },
     "execution_count": 7,
     "metadata": {},
     "output_type": "execute_result"
    }
   ],
   "source": [
    "soluciones.train_time(10)"
   ]
  },
  {
   "cell_type": "code",
   "execution_count": 8,
   "metadata": {},
   "outputs": [
    {
     "name": "stdout",
     "output_type": "stream",
     "text": [
      "[[  6.         763.29585182]\n",
      " [ 26.         613.98536274]]\n"
     ]
    },
    {
     "data": {
      "text/plain": [
       "array([[  6.        , 466.33614951],\n",
       "       [ 26.        , 345.72243202]])"
      ]
     },
     "execution_count": 8,
     "metadata": {},
     "output_type": "execute_result"
    }
   ],
   "source": [
    "soluciones2 = SolCollection(n_pob=5, ratio_sons=1, ratio_mutation=.2, num_random_sols=1)\n",
    "print(soluciones2.get_paretto_sols())\n",
    "soluciones2.train_time(10, interactive=False)"
   ]
  },
  {
   "cell_type": "code",
   "execution_count": 9,
   "metadata": {},
   "outputs": [
    {
     "data": {
      "text/plain": [
       "[route: [2 3 1],\n",
       " route: [3 0 2],\n",
       " route: [1 0],\n",
       " route: [2 4 3],\n",
       " route: [2 4 1],\n",
       " route: [2 3 1],\n",
       " route: [1 2],\n",
       " route: [2 3],\n",
       " route: [2 3 1],\n",
       " route: [2 3 1]]"
      ]
     },
     "execution_count": 9,
     "metadata": {},
     "output_type": "execute_result"
    }
   ],
   "source": [
    "soluciones2.sols"
   ]
  },
  {
   "cell_type": "code",
   "execution_count": 10,
   "metadata": {},
   "outputs": [
    {
     "name": "stdout",
     "output_type": "stream",
     "text": [
      "---------------------------------------------------------\n",
      "time := 0.00.  iterations : 1\n",
      "[[0 3]\n",
      " [0 1]\n",
      " [0 2]\n",
      " [0 1]\n",
      " [0 1]]\n",
      "[route: [0, 2, 1, 3, 4]\n",
      ", route: [0, 2, 3, 1, 4]\n",
      ", route: [0, 2, 1, 4]\n",
      ", route: [2, 3, 1, 4, 0]\n",
      ", route: [3, 2, 4, 1, 0]\n",
      ", route: [0 2 1 3 4]\n",
      ", route: [0 2 1 3 4]\n",
      ", route: [0 2 1 3 4]\n",
      ", route: [0 2 1 4 3]\n",
      ", route: [0 2 1 3 4]\n",
      "]\n",
      "---------------------------------------------------------\n",
      "time := 2.50.  iterations : 695\n",
      "[[0 2]\n",
      " [0 1]\n",
      " [0 1]\n",
      " [0 1]\n",
      " [0 3]]\n",
      "[route: [3, 4]\n",
      ", route: [3, 1, 2]\n",
      ", route: [4, 2, 0, 3]\n",
      ", route: [3 0 2 4]\n",
      ", route: [3 2]\n",
      ", route: [2 3 0 1]\n",
      ", route: [4 3 0]\n",
      ", route: [3 4 0 1]\n",
      ", route: [3 4 0]\n",
      ", route: [3 4 0 1]\n",
      "]\n",
      "---------------------------------------------------------\n",
      "time := 5.00.  iterations : 1398\n",
      "[[0 1]\n",
      " [0 3]\n",
      " [0 1]\n",
      " [0 3]\n",
      " [0 3]]\n",
      "[route: [3, 4, 1, 0]\n",
      ", route: [4, 0, 3, 1]\n",
      ", route: [2, 3]\n",
      ", route: [3 0 1]\n",
      ", route: [3 0]\n",
      ", route: [3 4 1 2]\n",
      ", route: [0 4 1 2]\n",
      ", route: [4 3 1 0]\n",
      ", route: [3 4 1 0]\n",
      ", route: [3 4 1 0]\n",
      "]\n",
      "---------------------------------------------------------\n",
      "time := 7.50.  iterations : 2063\n",
      "[[0 1]\n",
      " [0 1]\n",
      " [0 3]\n",
      " [0 2]\n",
      " [0 2]]\n",
      "[route: [0, 2]\n",
      ", route: [0, 3, 2, 1]\n",
      ", route: [2, 3, 4]\n",
      ", route: [3 2 1]\n",
      ", route: [2 3 4]\n",
      ", route: [0 2]\n",
      ", route: [3 2]\n",
      ", route: [0 2]\n",
      ", route: [3 2 1]\n",
      ", route: [2 3]\n",
      "]\n",
      "---------------------------------------------------------\n",
      "time := 10.00.  iterations : 2783\n",
      "[[0 1]\n",
      " [0 1]\n",
      " [0 2]\n",
      " [0 1]\n",
      " [0 2]]\n",
      "[route: [2, 3, 1]\n",
      ", route: [0, 2, 4]\n",
      ", route: [4, 1]\n",
      ", route: [3 1 4]\n",
      ", route: [1 0 3]\n",
      ", route: [2 4 1 3]\n",
      ", route: [2 4 1 3]\n",
      ", route: [2 4 1 3]\n",
      ", route: [2 4 1]\n",
      ", route: [2 4]\n",
      "]\n"
     ]
    }
   ],
   "source": [
    "soluciones_show = SolCollection(n_pob=5, ratio_sons=1, ratio_mutation=.2, num_random_sols=1)\n",
    "list_points, times_list, iters_list = soluciones_show.train_time(10, interactive=True)\n",
    "\n"
   ]
  },
  {
   "cell_type": "code",
   "execution_count": 11,
   "metadata": {},
   "outputs": [],
   "source": [
    "def get_lims_pts(list_points):\n",
    "    get_lim = lambda func, axis: func([func(matrix[:, axis]) for matrix in list_points])\n",
    "    x_lims = (get_lim(min, 0), get_lim(max, 0))\n",
    "    y_lims = (get_lim(min, 1), get_lim(max, 1))\n",
    "    return(x_lims, y_lims)\n",
    "\n",
    "def normalize_list_in_place(list_points, get_lims_pts=get_lims_pts):\n",
    "    '''\n",
    "        Normalization in place. Normalization of form (x - x_min)/ (x_max - x_min)\n",
    "        Inputs:\n",
    "            list_points: list of arrays\n",
    "                Every array represents points [x, y] by its columns.\n",
    "        No outputs:\n",
    "            Normalization is done in place\n",
    "        \n",
    "    '''\n",
    "    \n",
    "    def normalize_in_pl(array, x_lim, y_lim):\n",
    "            min_x, max_x = x_lims\n",
    "            array[:, 0] -= min_x\n",
    "            array[:, 0] /= (max_x - min_x)\n",
    "            \n",
    "            min_y, max_y = y_lims\n",
    "            array[:, 1] -= min_y\n",
    "            array[:, 1] /= (max_y - min_y)\n",
    "            \n",
    "    x_lims, y_lims = get_lims_pts(list_points)\n",
    "    for array in list_points:\n",
    "        normalize_in_pl(array, x_lims, y_lims)"
   ]
  },
  {
   "cell_type": "code",
   "execution_count": 12,
   "metadata": {},
   "outputs": [],
   "source": [
    "lista2 = deepcopy(list_points)"
   ]
  },
  {
   "cell_type": "code",
   "execution_count": 13,
   "metadata": {},
   "outputs": [
    {
     "data": {
      "text/plain": [
       "((0.0, 1.0), (0.0, 1.0))"
      ]
     },
     "execution_count": 13,
     "metadata": {},
     "output_type": "execute_result"
    }
   ],
   "source": [
    "normalize_list_in_place(list_points)\n",
    "get_lims_pts(list_points)"
   ]
  },
  {
   "cell_type": "code",
   "execution_count": 14,
   "metadata": {},
   "outputs": [
    {
     "data": {
      "text/plain": [
       "((6.0, 26.0), (0.0, 466.3361495082039))"
      ]
     },
     "execution_count": 14,
     "metadata": {},
     "output_type": "execute_result"
    }
   ],
   "source": [
    "get_lims_pts(lista2)"
   ]
  },
  {
   "cell_type": "code",
   "execution_count": 15,
   "metadata": {
    "scrolled": false
   },
   "outputs": [
    {
     "data": {
      "application/vnd.jupyter.widget-view+json": {
       "model_id": "e98273184bd94ac6a66dda61f6aacce1",
       "version_major": 2,
       "version_minor": 0
      },
      "text/plain": [
       "interactive(children=(IntSlider(value=1, description='n', max=4), Output(layout=Layout(height='400px'))), _dom…"
      ]
     },
     "metadata": {},
     "output_type": "display_data"
    }
   ],
   "source": [
    "%matplotlib inline\n",
    "from ipywidgets import interactive\n",
    "import matplotlib.pyplot as plt\n",
    "\n",
    "def plot_list_points(n=1):\n",
    "    points = list_points[n]\n",
    "    x, y = points[:,0], points[:,1]\n",
    "    plt.figure(figsize=(14, 6))\n",
    "    plt.scatter(x, y)\n",
    "    plt.xlim(-0.1, 1.1)\n",
    "    plt.ylim(-0.1, 1.1)\n",
    "    plt.title(f'time := {times_list[n]:.2f}.  iterations : {iters_list[n]}')\n",
    "    plt.xlabel('Unb')\n",
    "    plt.ylabel('Tsp')\n",
    "    plt.grid()\n",
    "    plt.show()\n",
    "    \n",
    "interactive_plot = interactive(plot_list_points, n=(0, len(list_points)-1))\n",
    "output = interactive_plot.children[-1]\n",
    "output.layout.height = '400px'\n",
    "interactive_plot"
   ]
  },
  {
   "cell_type": "code",
   "execution_count": null,
   "metadata": {},
   "outputs": [],
   "source": []
  }
 ],
 "metadata": {
  "kernelspec": {
   "display_name": "Python 3.7.4 64-bit ('anaconda3': virtualenv)",
   "language": "python",
   "name": "python37464bitanaconda3virtualenvc092b8aa372f43e5851e1caa4cb66600"
  },
  "language_info": {
   "codemirror_mode": {
    "name": "ipython",
    "version": 3
   },
   "file_extension": ".py",
   "mimetype": "text/x-python",
   "name": "python",
   "nbconvert_exporter": "python",
   "pygments_lexer": "ipython3",
   "version": "3.7.4"
  }
 },
 "nbformat": 4,
 "nbformat_minor": 4
}
