{
 "cells": [
  {
   "cell_type": "markdown",
   "metadata": {},
   "source": [
    "# Cosas Importantes\n",
    "- Cambio de gráfica.\n",
    "- Funcion para mostrar tiempo"
   ]
  },
  {
   "cell_type": "code",
   "execution_count": 1,
   "metadata": {},
   "outputs": [],
   "source": [
    "from model import Sol, SolCollection, read_stations\n",
    "import model as m\n",
    "import numpy as np\n",
    "import pandas as pd\n",
    "import utilities as util\n",
    "from utilities import get_lims_pts, normalize_list_in_place, plot_list_points, blockPrint, enablePrint\n",
    "import random\n",
    "from copy import deepcopy\n",
    "random.seed(12334789)\n",
    "%matplotlib inline\n",
    "from ipywidgets import interactive, fixed\n",
    "import matplotlib.pyplot as plt"
   ]
  },
  {
   "cell_type": "code",
   "execution_count": 2,
   "metadata": {},
   "outputs": [],
   "source": [
    "# Read file and stations\n",
    "fp = '~/Dropbox/PI/PI2/data/n30q10A.dat'\n",
    "file_stations = util.read_file(fp)\n",
    "stations = read_stations(file_stations) # list of stations\n",
    "Sol.set_stations(stations)"
   ]
  },
  {
   "cell_type": "code",
   "execution_count": 3,
   "metadata": {
    "jupyter": {
     "outputs_hidden": true
    }
   },
   "outputs": [],
   "source": [
    "soluciones_show = SolCollection(n_pob=25, ratio_sons=.75, ratio_mutation=.2, num_random_sols=4)\n",
    "\n",
    "list_points, times_list, iters_list = soluciones_show.train_time(20, interactive=True, n_chks=10)"
   ]
  },
  {
   "cell_type": "code",
   "execution_count": 4,
   "metadata": {},
   "outputs": [],
   "source": [
    "lista2 = deepcopy(list_points)\n",
    "normalize_list_in_place(list_points)"
   ]
  },
  {
   "cell_type": "code",
   "execution_count": 5,
   "metadata": {},
   "outputs": [
    {
     "data": {
      "application/vnd.jupyter.widget-view+json": {
       "model_id": "19c75539632246f79f933fcf26023089",
       "version_major": 2,
       "version_minor": 0
      },
      "text/plain": [
       "interactive(children=(IntSlider(value=1, description='n', max=10), Output(layout=Layout(height='600px'))), _do…"
      ]
     },
     "metadata": {},
     "output_type": "display_data"
    }
   ],
   "source": [
    "interactive_plot = interactive(plot_list_points, \n",
    "                               n=(0, len(list_points)-1), list_points=fixed(list_points),\n",
    "                               iters_list=fixed(iters_list), times_list=fixed(times_list))\n",
    "output = interactive_plot.children[-1]\n",
    "output.layout.height = '600px'\n",
    "interactive_plot"
   ]
  },
  {
   "cell_type": "code",
   "execution_count": 6,
   "metadata": {},
   "outputs": [
    {
     "data": {
      "text/html": [
       "<div>\n",
       "<style scoped>\n",
       "    .dataframe tbody tr th:only-of-type {\n",
       "        vertical-align: middle;\n",
       "    }\n",
       "\n",
       "    .dataframe tbody tr th {\n",
       "        vertical-align: top;\n",
       "    }\n",
       "\n",
       "    .dataframe thead th {\n",
       "        text-align: right;\n",
       "    }\n",
       "</style>\n",
       "<table border=\"1\" class=\"dataframe\">\n",
       "  <thead>\n",
       "    <tr style=\"text-align: right;\">\n",
       "      <th></th>\n",
       "      <th>time(s)</th>\n",
       "      <th>%</th>\n",
       "    </tr>\n",
       "  </thead>\n",
       "  <tbody>\n",
       "    <tr>\n",
       "      <td>medal_table</td>\n",
       "      <td>7.101330</td>\n",
       "      <td>0.347880</td>\n",
       "    </tr>\n",
       "    <tr>\n",
       "      <td>biased_parents</td>\n",
       "      <td>0.488868</td>\n",
       "      <td>0.023949</td>\n",
       "    </tr>\n",
       "    <tr>\n",
       "      <td>parent_selection</td>\n",
       "      <td>0.589879</td>\n",
       "      <td>0.028897</td>\n",
       "    </tr>\n",
       "    <tr>\n",
       "      <td>reproduce</td>\n",
       "      <td>11.772365</td>\n",
       "      <td>0.576704</td>\n",
       "    </tr>\n",
       "    <tr>\n",
       "      <td>one_gen_mutation</td>\n",
       "      <td>0.460747</td>\n",
       "      <td>0.022571</td>\n",
       "    </tr>\n",
       "  </tbody>\n",
       "</table>\n",
       "</div>"
      ],
      "text/plain": [
       "                    time(s)         %\n",
       "medal_table        7.101330  0.347880\n",
       "biased_parents     0.488868  0.023949\n",
       "parent_selection   0.589879  0.028897\n",
       "reproduce         11.772365  0.576704\n",
       "one_gen_mutation   0.460747  0.022571"
      ]
     },
     "execution_count": 6,
     "metadata": {},
     "output_type": "execute_result"
    }
   ],
   "source": [
    "df_times = soluciones_show.get_times()\n",
    "df_times"
   ]
  }
 ],
 "metadata": {
  "kernelspec": {
   "display_name": "Python 3",
   "language": "python",
   "name": "python3"
  },
  "language_info": {
   "codemirror_mode": {
    "name": "ipython",
    "version": 3
   },
   "file_extension": ".py",
   "mimetype": "text/x-python",
   "name": "python",
   "nbconvert_exporter": "python",
   "pygments_lexer": "ipython3",
   "version": "3.7.4"
  }
 },
 "nbformat": 4,
 "nbformat_minor": 4
}
