{
 "cells": [
  {
   "cell_type": "code",
   "execution_count": null,
   "metadata": {},
   "outputs": [],
   "source": []
  },
  {
   "cell_type": "code",
   "execution_count": 1,
   "metadata": {},
   "outputs": [],
   "source": [
    "from model import Sol, SolCollection, read_stations\n",
    "import model as m\n",
    "import numpy as np\n",
    "import pandas as pd\n",
    "import utilities as util\n",
    "from utilities import get_lims_pts, normalize_list_in_place, plot_list_points, blockPrint, enablePrint\n",
    "import random\n",
    "from copy import deepcopy\n",
    "random.seed(12334789)\n",
    "%matplotlib inline\n",
    "import matplotlib.pyplot as plt"
   ]
  },
  {
   "cell_type": "code",
   "execution_count": 2,
   "metadata": {},
   "outputs": [],
   "source": [
    "# Read file and stations\n",
    "fp = '~/Dropbox/PI/PI2/data/n30q10A.dat'\n",
    "file_stations = util.read_file(fp)\n",
    "stations = read_stations(file_stations) # list of stations\n",
    "Sol.set_stations(stations)"
   ]
  },
  {
   "cell_type": "code",
   "execution_count": 3,
   "metadata": {},
   "outputs": [
    {
     "ename": "ValueError",
     "evalue": "too many values to unpack (expected 3)",
     "output_type": "error",
     "traceback": [
      "\u001b[0;31m---------------------------------------------------------------------------\u001b[0m",
      "\u001b[0;31mValueError\u001b[0m                                Traceback (most recent call last)",
      "\u001b[0;32m<ipython-input-3-688bb858f8fb>\u001b[0m in \u001b[0;36m<module>\u001b[0;34m\u001b[0m\n\u001b[1;32m      1\u001b[0m \u001b[0msoluciones_show\u001b[0m \u001b[0;34m=\u001b[0m \u001b[0mSolCollection\u001b[0m\u001b[0;34m(\u001b[0m\u001b[0mn_pob\u001b[0m\u001b[0;34m=\u001b[0m\u001b[0;36m25\u001b[0m\u001b[0;34m,\u001b[0m \u001b[0mratio_sons\u001b[0m\u001b[0;34m=\u001b[0m\u001b[0;36m.75\u001b[0m\u001b[0;34m,\u001b[0m \u001b[0mratio_mutation\u001b[0m\u001b[0;34m=\u001b[0m\u001b[0;36m.2\u001b[0m\u001b[0;34m,\u001b[0m \u001b[0mnum_random_sols\u001b[0m\u001b[0;34m=\u001b[0m\u001b[0;36m4\u001b[0m\u001b[0;34m)\u001b[0m\u001b[0;34m\u001b[0m\u001b[0;34m\u001b[0m\u001b[0m\n\u001b[1;32m      2\u001b[0m \u001b[0;34m\u001b[0m\u001b[0m\n\u001b[0;32m----> 3\u001b[0;31m \u001b[0mlist_points\u001b[0m\u001b[0;34m,\u001b[0m \u001b[0mtimes_list\u001b[0m\u001b[0;34m,\u001b[0m \u001b[0miters_list\u001b[0m \u001b[0;34m=\u001b[0m \u001b[0msoluciones_show\u001b[0m\u001b[0;34m.\u001b[0m\u001b[0mtrain_time\u001b[0m\u001b[0;34m(\u001b[0m\u001b[0;36m1\u001b[0m\u001b[0;34m)\u001b[0m\u001b[0;34m\u001b[0m\u001b[0;34m\u001b[0m\u001b[0m\n\u001b[0m",
      "\u001b[0;31mValueError\u001b[0m: too many values to unpack (expected 3)"
     ]
    }
   ],
   "source": [
    "soluciones = SolCollection(n_pob=25, ratio_sons=.75, ratio_mutation=.2, num_random_sols=4)\n",
    "\n",
    "soluciones.train_time(1)"
   ]
  },
  {
   "cell_type": "code",
   "execution_count": null,
   "metadata": {},
   "outputs": [],
   "source": [
    "df_times = soluciones_show.get_times()\n",
    "df_times"
   ]
  }
 ],
 "metadata": {
  "kernelspec": {
   "display_name": "Python 3",
   "language": "python",
   "name": "python3"
  },
  "language_info": {
   "codemirror_mode": {
    "name": "ipython",
    "version": 3
   },
   "file_extension": ".py",
   "mimetype": "text/x-python",
   "name": "python",
   "nbconvert_exporter": "python",
   "pygments_lexer": "ipython3",
   "version": "3.7.5"
  }
 },
 "nbformat": 4,
 "nbformat_minor": 4
}
